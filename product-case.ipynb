{
 "cells": [
  {
   "cell_type": "code",
   "execution_count": 1,
   "id": "6721784a",
   "metadata": {
    "_cell_guid": "b1076dfc-b9ad-4769-8c92-a6c4dae69d19",
    "_uuid": "8f2839f25d086af736a60e9eeb907d3b93b6e0e5",
    "execution": {
     "iopub.execute_input": "2025-08-26T07:21:55.708372Z",
     "iopub.status.busy": "2025-08-26T07:21:55.708048Z",
     "iopub.status.idle": "2025-08-26T07:21:57.587008Z",
     "shell.execute_reply": "2025-08-26T07:21:57.585619Z"
    },
    "papermill": {
     "duration": 1.888044,
     "end_time": "2025-08-26T07:21:57.588644",
     "exception": false,
     "start_time": "2025-08-26T07:21:55.700600",
     "status": "completed"
    },
    "tags": []
   },
   "outputs": [
    {
     "name": "stdout",
     "output_type": "stream",
     "text": [
      "/kaggle/input/t-bank/invest_db.csv\n"
     ]
    }
   ],
   "source": [
    "# This Python 3 environment comes with many helpful analytics libraries installed\n",
    "# It is defined by the kaggle/python Docker image: https://github.com/kaggle/docker-python\n",
    "# For example, here's several helpful packages to load\n",
    "\n",
    "import numpy as np # linear algebra\n",
    "import pandas as pd # data processing, CSV file I/O (e.g. pd.read_csv)\n",
    "\n",
    "# Input data files are available in the read-only \"../input/\" directory\n",
    "# For example, running this (by clicking run or pressing Shift+Enter) will list all files under the input directory\n",
    "\n",
    "import os\n",
    "for dirname, _, filenames in os.walk('/kaggle/input'):\n",
    "    for filename in filenames:\n",
    "        print(os.path.join(dirname, filename))\n",
    "\n",
    "# You can write up to 20GB to the current directory (/kaggle/working/) that gets preserved as output when you create a version using \"Save & Run All\" \n",
    "# You can also write temporary files to /kaggle/temp/, but they won't be saved outside of the current session"
   ]
  },
  {
   "cell_type": "code",
   "execution_count": 2,
   "id": "5397cf12",
   "metadata": {
    "execution": {
     "iopub.execute_input": "2025-08-26T07:21:57.600999Z",
     "iopub.status.busy": "2025-08-26T07:21:57.600527Z",
     "iopub.status.idle": "2025-08-26T07:21:59.709515Z",
     "shell.execute_reply": "2025-08-26T07:21:59.708775Z"
    },
    "papermill": {
     "duration": 2.116789,
     "end_time": "2025-08-26T07:21:59.711129",
     "exception": false,
     "start_time": "2025-08-26T07:21:57.594340",
     "status": "completed"
    },
    "tags": []
   },
   "outputs": [],
   "source": [
    "import pandas as pd\n",
    "import numpy as np\n",
    "import seaborn as sns\n",
    "import matplotlib as plt\n",
    "import warnings \n",
    "import matplotlib.pyplot as plt\n",
    "from sklearn.preprocessing import LabelEncoder\n",
    "warnings.filterwarnings('ignore')\n",
    "%matplotlib inline"
   ]
  },
  {
   "cell_type": "code",
   "execution_count": 3,
   "id": "38d826e7",
   "metadata": {
    "execution": {
     "iopub.execute_input": "2025-08-26T07:21:59.725990Z",
     "iopub.status.busy": "2025-08-26T07:21:59.725467Z",
     "iopub.status.idle": "2025-08-26T07:22:18.384373Z",
     "shell.execute_reply": "2025-08-26T07:22:18.383639Z"
    },
    "papermill": {
     "duration": 18.667615,
     "end_time": "2025-08-26T07:22:18.386051",
     "exception": false,
     "start_time": "2025-08-26T07:21:59.718436",
     "status": "completed"
    },
    "tags": []
   },
   "outputs": [
    {
     "data": {
      "text/html": [
       "<div>\n",
       "<style scoped>\n",
       "    .dataframe tbody tr th:only-of-type {\n",
       "        vertical-align: middle;\n",
       "    }\n",
       "\n",
       "    .dataframe tbody tr th {\n",
       "        vertical-align: top;\n",
       "    }\n",
       "\n",
       "    .dataframe thead th {\n",
       "        text-align: right;\n",
       "    }\n",
       "</style>\n",
       "<table border=\"1\" class=\"dataframe\">\n",
       "  <thead>\n",
       "    <tr style=\"text-align: right;\">\n",
       "      <th></th>\n",
       "      <th>id</th>\n",
       "      <th>date</th>\n",
       "      <th>age</th>\n",
       "      <th>education_level_cd</th>\n",
       "      <th>marital_status_cd</th>\n",
       "      <th>children_cnt</th>\n",
       "      <th>monthly_income_amt</th>\n",
       "      <th>invest_utilization_dt</th>\n",
       "      <th>forts_flg</th>\n",
       "      <th>margin_status_flg</th>\n",
       "      <th>...</th>\n",
       "      <th>portf_fnd_amt</th>\n",
       "      <th>portf_opt_amt</th>\n",
       "      <th>portf_ore_amt</th>\n",
       "      <th>ccr_balance_amt</th>\n",
       "      <th>cor_balance_amt</th>\n",
       "      <th>lon_balance_amt</th>\n",
       "      <th>posts</th>\n",
       "      <th>comments</th>\n",
       "      <th>reacts</th>\n",
       "      <th>reads</th>\n",
       "    </tr>\n",
       "  </thead>\n",
       "  <tbody>\n",
       "    <tr>\n",
       "      <th>0</th>\n",
       "      <td>1479787897</td>\n",
       "      <td>2024-04-20</td>\n",
       "      <td>33</td>\n",
       "      <td>NaN</td>\n",
       "      <td>UNM</td>\n",
       "      <td>0,0</td>\n",
       "      <td>31272,0</td>\n",
       "      <td>2023-09-13</td>\n",
       "      <td>1</td>\n",
       "      <td>0</td>\n",
       "      <td>...</td>\n",
       "      <td>428,0</td>\n",
       "      <td>0,0</td>\n",
       "      <td>0,0</td>\n",
       "      <td>-11298,0</td>\n",
       "      <td>541,0</td>\n",
       "      <td>0,0</td>\n",
       "      <td>0,0</td>\n",
       "      <td>0,0</td>\n",
       "      <td>0,0</td>\n",
       "      <td>0,0</td>\n",
       "    </tr>\n",
       "    <tr>\n",
       "      <th>1</th>\n",
       "      <td>601760063</td>\n",
       "      <td>2024-02-01</td>\n",
       "      <td>29</td>\n",
       "      <td>GRD</td>\n",
       "      <td>UNM</td>\n",
       "      <td>0,0</td>\n",
       "      <td>6284,0</td>\n",
       "      <td>2021-03-29</td>\n",
       "      <td>0</td>\n",
       "      <td>0</td>\n",
       "      <td>...</td>\n",
       "      <td>23,0</td>\n",
       "      <td>0,0</td>\n",
       "      <td>0,0</td>\n",
       "      <td>NaN</td>\n",
       "      <td>8115,0</td>\n",
       "      <td>0,0</td>\n",
       "      <td>0,0</td>\n",
       "      <td>0,0</td>\n",
       "      <td>0,0</td>\n",
       "      <td>0,0</td>\n",
       "    </tr>\n",
       "    <tr>\n",
       "      <th>2</th>\n",
       "      <td>61175329</td>\n",
       "      <td>2024-02-10</td>\n",
       "      <td>38</td>\n",
       "      <td>SCH</td>\n",
       "      <td>MAR</td>\n",
       "      <td>0,0</td>\n",
       "      <td>1904,0</td>\n",
       "      <td>2023-12-05</td>\n",
       "      <td>1</td>\n",
       "      <td>0</td>\n",
       "      <td>...</td>\n",
       "      <td>193,0</td>\n",
       "      <td>0,0</td>\n",
       "      <td>0,0</td>\n",
       "      <td>0,0</td>\n",
       "      <td>25,0</td>\n",
       "      <td>NaN</td>\n",
       "      <td>0,0</td>\n",
       "      <td>0,0</td>\n",
       "      <td>0,0</td>\n",
       "      <td>2,0</td>\n",
       "    </tr>\n",
       "    <tr>\n",
       "      <th>3</th>\n",
       "      <td>1411700618</td>\n",
       "      <td>2024-03-05</td>\n",
       "      <td>64</td>\n",
       "      <td>NaN</td>\n",
       "      <td>NaN</td>\n",
       "      <td>0,0</td>\n",
       "      <td>NaN</td>\n",
       "      <td>2021-09-16</td>\n",
       "      <td>0</td>\n",
       "      <td>0</td>\n",
       "      <td>...</td>\n",
       "      <td>0,0</td>\n",
       "      <td>0,0</td>\n",
       "      <td>0,0</td>\n",
       "      <td>NaN</td>\n",
       "      <td>65,0</td>\n",
       "      <td>NaN</td>\n",
       "      <td>0,0</td>\n",
       "      <td>0,0</td>\n",
       "      <td>0,0</td>\n",
       "      <td>0,0</td>\n",
       "    </tr>\n",
       "    <tr>\n",
       "      <th>4</th>\n",
       "      <td>2096755145</td>\n",
       "      <td>2024-02-10</td>\n",
       "      <td>31</td>\n",
       "      <td>NaN</td>\n",
       "      <td>UNM</td>\n",
       "      <td>0,0</td>\n",
       "      <td>NaN</td>\n",
       "      <td>2022-03-01</td>\n",
       "      <td>0</td>\n",
       "      <td>0</td>\n",
       "      <td>...</td>\n",
       "      <td>0,0</td>\n",
       "      <td>0,0</td>\n",
       "      <td>0,0</td>\n",
       "      <td>0,0</td>\n",
       "      <td>0,0</td>\n",
       "      <td>NaN</td>\n",
       "      <td>0,0</td>\n",
       "      <td>0,0</td>\n",
       "      <td>0,0</td>\n",
       "      <td>0,0</td>\n",
       "    </tr>\n",
       "  </tbody>\n",
       "</table>\n",
       "<p>5 rows × 51 columns</p>\n",
       "</div>"
      ],
      "text/plain": [
       "           id        date  age education_level_cd marital_status_cd  \\\n",
       "0  1479787897  2024-04-20   33                NaN               UNM   \n",
       "1   601760063  2024-02-01   29                GRD               UNM   \n",
       "2    61175329  2024-02-10   38                SCH               MAR   \n",
       "3  1411700618  2024-03-05   64                NaN               NaN   \n",
       "4  2096755145  2024-02-10   31                NaN               UNM   \n",
       "\n",
       "  children_cnt monthly_income_amt invest_utilization_dt  forts_flg  \\\n",
       "0          0,0            31272,0            2023-09-13          1   \n",
       "1          0,0             6284,0            2021-03-29          0   \n",
       "2          0,0             1904,0            2023-12-05          1   \n",
       "3          0,0                NaN            2021-09-16          0   \n",
       "4          0,0                NaN            2022-03-01          0   \n",
       "\n",
       "   margin_status_flg  ...  portf_fnd_amt portf_opt_amt portf_ore_amt  \\\n",
       "0                  0  ...          428,0           0,0           0,0   \n",
       "1                  0  ...           23,0           0,0           0,0   \n",
       "2                  0  ...          193,0           0,0           0,0   \n",
       "3                  0  ...            0,0           0,0           0,0   \n",
       "4                  0  ...            0,0           0,0           0,0   \n",
       "\n",
       "  ccr_balance_amt cor_balance_amt lon_balance_amt posts comments reacts reads  \n",
       "0        -11298,0           541,0             0,0   0,0      0,0    0,0   0,0  \n",
       "1             NaN          8115,0             0,0   0,0      0,0    0,0   0,0  \n",
       "2             0,0            25,0             NaN   0,0      0,0    0,0   2,0  \n",
       "3             NaN            65,0             NaN   0,0      0,0    0,0   0,0  \n",
       "4             0,0             0,0             NaN   0,0      0,0    0,0   0,0  \n",
       "\n",
       "[5 rows x 51 columns]"
      ]
     },
     "execution_count": 3,
     "metadata": {},
     "output_type": "execute_result"
    }
   ],
   "source": [
    "train = pd.read_csv(\"/kaggle/input/t-bank/invest_db.csv\",sep=';', engine='python')\n",
    "train.head()"
   ]
  },
  {
   "cell_type": "code",
   "execution_count": 4,
   "id": "e31ec658",
   "metadata": {
    "execution": {
     "iopub.execute_input": "2025-08-26T07:22:18.398816Z",
     "iopub.status.busy": "2025-08-26T07:22:18.398488Z",
     "iopub.status.idle": "2025-08-26T07:22:18.497115Z",
     "shell.execute_reply": "2025-08-26T07:22:18.496135Z"
    },
    "papermill": {
     "duration": 0.107019,
     "end_time": "2025-08-26T07:22:18.498877",
     "exception": false,
     "start_time": "2025-08-26T07:22:18.391858",
     "status": "completed"
    },
    "tags": []
   },
   "outputs": [
    {
     "data": {
      "text/html": [
       "<div>\n",
       "<style scoped>\n",
       "    .dataframe tbody tr th:only-of-type {\n",
       "        vertical-align: middle;\n",
       "    }\n",
       "\n",
       "    .dataframe tbody tr th {\n",
       "        vertical-align: top;\n",
       "    }\n",
       "\n",
       "    .dataframe thead th {\n",
       "        text-align: right;\n",
       "    }\n",
       "</style>\n",
       "<table border=\"1\" class=\"dataframe\">\n",
       "  <thead>\n",
       "    <tr style=\"text-align: right;\">\n",
       "      <th></th>\n",
       "      <th>id</th>\n",
       "      <th>age</th>\n",
       "      <th>forts_flg</th>\n",
       "      <th>margin_status_flg</th>\n",
       "      <th>qualified_investor_flg</th>\n",
       "    </tr>\n",
       "  </thead>\n",
       "  <tbody>\n",
       "    <tr>\n",
       "      <th>count</th>\n",
       "      <td>4.583700e+05</td>\n",
       "      <td>458370.000000</td>\n",
       "      <td>458370.000000</td>\n",
       "      <td>458370.000000</td>\n",
       "      <td>458370.000000</td>\n",
       "    </tr>\n",
       "    <tr>\n",
       "      <th>mean</th>\n",
       "      <td>1.062470e+09</td>\n",
       "      <td>40.533674</td>\n",
       "      <td>0.530006</td>\n",
       "      <td>0.322597</td>\n",
       "      <td>0.286797</td>\n",
       "    </tr>\n",
       "    <tr>\n",
       "      <th>std</th>\n",
       "      <td>6.192610e+08</td>\n",
       "      <td>10.917544</td>\n",
       "      <td>0.499099</td>\n",
       "      <td>0.467471</td>\n",
       "      <td>0.452266</td>\n",
       "    </tr>\n",
       "    <tr>\n",
       "      <th>min</th>\n",
       "      <td>4.239000e+04</td>\n",
       "      <td>18.000000</td>\n",
       "      <td>0.000000</td>\n",
       "      <td>0.000000</td>\n",
       "      <td>0.000000</td>\n",
       "    </tr>\n",
       "    <tr>\n",
       "      <th>25%</th>\n",
       "      <td>5.234677e+08</td>\n",
       "      <td>33.000000</td>\n",
       "      <td>0.000000</td>\n",
       "      <td>0.000000</td>\n",
       "      <td>0.000000</td>\n",
       "    </tr>\n",
       "    <tr>\n",
       "      <th>50%</th>\n",
       "      <td>1.053416e+09</td>\n",
       "      <td>40.000000</td>\n",
       "      <td>1.000000</td>\n",
       "      <td>0.000000</td>\n",
       "      <td>0.000000</td>\n",
       "    </tr>\n",
       "    <tr>\n",
       "      <th>75%</th>\n",
       "      <td>1.613187e+09</td>\n",
       "      <td>47.000000</td>\n",
       "      <td>1.000000</td>\n",
       "      <td>1.000000</td>\n",
       "      <td>1.000000</td>\n",
       "    </tr>\n",
       "    <tr>\n",
       "      <th>max</th>\n",
       "      <td>2.147203e+09</td>\n",
       "      <td>86.000000</td>\n",
       "      <td>1.000000</td>\n",
       "      <td>1.000000</td>\n",
       "      <td>1.000000</td>\n",
       "    </tr>\n",
       "  </tbody>\n",
       "</table>\n",
       "</div>"
      ],
      "text/plain": [
       "                 id            age      forts_flg  margin_status_flg  \\\n",
       "count  4.583700e+05  458370.000000  458370.000000      458370.000000   \n",
       "mean   1.062470e+09      40.533674       0.530006           0.322597   \n",
       "std    6.192610e+08      10.917544       0.499099           0.467471   \n",
       "min    4.239000e+04      18.000000       0.000000           0.000000   \n",
       "25%    5.234677e+08      33.000000       0.000000           0.000000   \n",
       "50%    1.053416e+09      40.000000       1.000000           0.000000   \n",
       "75%    1.613187e+09      47.000000       1.000000           1.000000   \n",
       "max    2.147203e+09      86.000000       1.000000           1.000000   \n",
       "\n",
       "       qualified_investor_flg  \n",
       "count           458370.000000  \n",
       "mean                 0.286797  \n",
       "std                  0.452266  \n",
       "min                  0.000000  \n",
       "25%                  0.000000  \n",
       "50%                  0.000000  \n",
       "75%                  1.000000  \n",
       "max                  1.000000  "
      ]
     },
     "execution_count": 4,
     "metadata": {},
     "output_type": "execute_result"
    }
   ],
   "source": [
    "##statistical info\n",
    "train.describe()"
   ]
  },
  {
   "cell_type": "code",
   "execution_count": 5,
   "id": "71b57e02",
   "metadata": {
    "execution": {
     "iopub.execute_input": "2025-08-26T07:22:18.513062Z",
     "iopub.status.busy": "2025-08-26T07:22:18.511772Z",
     "iopub.status.idle": "2025-08-26T07:22:19.786880Z",
     "shell.execute_reply": "2025-08-26T07:22:19.785901Z"
    },
    "papermill": {
     "duration": 1.283348,
     "end_time": "2025-08-26T07:22:19.788425",
     "exception": false,
     "start_time": "2025-08-26T07:22:18.505077",
     "status": "completed"
    },
    "tags": []
   },
   "outputs": [
    {
     "name": "stdout",
     "output_type": "stream",
     "text": [
      "<class 'pandas.core.frame.DataFrame'>\n",
      "RangeIndex: 458370 entries, 0 to 458369\n",
      "Data columns (total 51 columns):\n",
      " #   Column                    Non-Null Count   Dtype \n",
      "---  ------                    --------------   ----- \n",
      " 0   id                        458370 non-null  int64 \n",
      " 1   date                      458370 non-null  object\n",
      " 2   age                       458370 non-null  int64 \n",
      " 3   education_level_cd        233460 non-null  object\n",
      " 4   marital_status_cd         267030 non-null  object\n",
      " 5   children_cnt              410310 non-null  object\n",
      " 6   monthly_income_amt        355140 non-null  object\n",
      " 7   invest_utilization_dt     458370 non-null  object\n",
      " 8   forts_flg                 458370 non-null  int64 \n",
      " 9   margin_status_flg         458370 non-null  int64 \n",
      " 10  qualified_investor_flg    458370 non-null  int64 \n",
      " 11  in_payment_rub_amt        458370 non-null  object\n",
      " 12  out_payment_rub_amt       458370 non-null  object\n",
      " 13  uncovered_position_amt    458370 non-null  object\n",
      " 14  turnover_rus_bon_amt      458370 non-null  object\n",
      " 15  turnover_rus_sec_amt      458370 non-null  object\n",
      " 16  turnover_forts_amt        458370 non-null  object\n",
      " 17  turnover_cur_amt          458370 non-null  object\n",
      " 18  turnover_etf_amt          458370 non-null  object\n",
      " 19  turnover_fnd_amt          458370 non-null  object\n",
      " 20  turnover_opt_amt          458370 non-null  object\n",
      " 21  turnover_ore_prc_amt      458370 non-null  object\n",
      " 22  turnover_ore_sel_amt      458370 non-null  object\n",
      " 23  turnover_tracking_amt     458370 non-null  object\n",
      " 24  trade_order_rus_sec_cnt   458370 non-null  object\n",
      " 25  trade_order_rus_bon_cnt   458370 non-null  object\n",
      " 26  trade_order_forts_cnt     458370 non-null  object\n",
      " 27  trade_order_cur_cnt       458370 non-null  object\n",
      " 28  trade_order_etf_cnt       458370 non-null  object\n",
      " 29  trade_order_fnd_cnt       458370 non-null  object\n",
      " 30  trade_order_opt_cnt       458370 non-null  object\n",
      " 31  trade_order_ore_prc_cnt   458370 non-null  object\n",
      " 32  trade_order_ore_sel_cnt   458370 non-null  object\n",
      " 33  trade_order_tracking_cnt  458370 non-null  object\n",
      " 34  portf_total_amt           458370 non-null  object\n",
      " 35  portf_mex_amt             458370 non-null  object\n",
      " 36  portf_rus_sec_amt         458370 non-null  object\n",
      " 37  portf_rus_bon_amt         458370 non-null  object\n",
      " 38  initial_margin_amt        458370 non-null  object\n",
      " 39  portf_cur_amt             458370 non-null  object\n",
      " 40  portf_etf_amt             458370 non-null  object\n",
      " 41  portf_fnd_amt             458370 non-null  object\n",
      " 42  portf_opt_amt             458370 non-null  object\n",
      " 43  portf_ore_amt             458370 non-null  object\n",
      " 44  ccr_balance_amt           291342 non-null  object\n",
      " 45  cor_balance_amt           457308 non-null  object\n",
      " 46  lon_balance_amt           148503 non-null  object\n",
      " 47  posts                     439050 non-null  object\n",
      " 48  comments                  439050 non-null  object\n",
      " 49  reacts                    439050 non-null  object\n",
      " 50  reads                     439050 non-null  object\n",
      "dtypes: int64(5), object(46)\n",
      "memory usage: 178.4+ MB\n"
     ]
    }
   ],
   "source": [
    "##datatype info \n",
    "train.info()"
   ]
  },
  {
   "cell_type": "code",
   "execution_count": 6,
   "id": "172fca7c",
   "metadata": {
    "execution": {
     "iopub.execute_input": "2025-08-26T07:22:19.801285Z",
     "iopub.status.busy": "2025-08-26T07:22:19.800962Z",
     "iopub.status.idle": "2025-08-26T07:22:21.074589Z",
     "shell.execute_reply": "2025-08-26T07:22:21.073525Z"
    },
    "papermill": {
     "duration": 1.28183,
     "end_time": "2025-08-26T07:22:21.076172",
     "exception": false,
     "start_time": "2025-08-26T07:22:19.794342",
     "status": "completed"
    },
    "tags": []
   },
   "outputs": [
    {
     "data": {
      "text/plain": [
       "id                               0\n",
       "date                             0\n",
       "age                              0\n",
       "education_level_cd          224910\n",
       "marital_status_cd           191340\n",
       "children_cnt                 48060\n",
       "monthly_income_amt          103230\n",
       "invest_utilization_dt            0\n",
       "forts_flg                        0\n",
       "margin_status_flg                0\n",
       "qualified_investor_flg           0\n",
       "in_payment_rub_amt               0\n",
       "out_payment_rub_amt              0\n",
       "uncovered_position_amt           0\n",
       "turnover_rus_bon_amt             0\n",
       "turnover_rus_sec_amt             0\n",
       "turnover_forts_amt               0\n",
       "turnover_cur_amt                 0\n",
       "turnover_etf_amt                 0\n",
       "turnover_fnd_amt                 0\n",
       "turnover_opt_amt                 0\n",
       "turnover_ore_prc_amt             0\n",
       "turnover_ore_sel_amt             0\n",
       "turnover_tracking_amt            0\n",
       "trade_order_rus_sec_cnt          0\n",
       "trade_order_rus_bon_cnt          0\n",
       "trade_order_forts_cnt            0\n",
       "trade_order_cur_cnt              0\n",
       "trade_order_etf_cnt              0\n",
       "trade_order_fnd_cnt              0\n",
       "trade_order_opt_cnt              0\n",
       "trade_order_ore_prc_cnt          0\n",
       "trade_order_ore_sel_cnt          0\n",
       "trade_order_tracking_cnt         0\n",
       "portf_total_amt                  0\n",
       "portf_mex_amt                    0\n",
       "portf_rus_sec_amt                0\n",
       "portf_rus_bon_amt                0\n",
       "initial_margin_amt               0\n",
       "portf_cur_amt                    0\n",
       "portf_etf_amt                    0\n",
       "portf_fnd_amt                    0\n",
       "portf_opt_amt                    0\n",
       "portf_ore_amt                    0\n",
       "ccr_balance_amt             167028\n",
       "cor_balance_amt               1062\n",
       "lon_balance_amt             309867\n",
       "posts                        19320\n",
       "comments                     19320\n",
       "reacts                       19320\n",
       "reads                        19320\n",
       "dtype: int64"
      ]
     },
     "execution_count": 6,
     "metadata": {},
     "output_type": "execute_result"
    }
   ],
   "source": [
    "train.isnull().sum()"
   ]
  },
  {
   "cell_type": "code",
   "execution_count": 7,
   "id": "092f4ed3",
   "metadata": {
    "execution": {
     "iopub.execute_input": "2025-08-26T07:22:21.090202Z",
     "iopub.status.busy": "2025-08-26T07:22:21.089910Z",
     "iopub.status.idle": "2025-08-26T07:22:21.569693Z",
     "shell.execute_reply": "2025-08-26T07:22:21.568894Z"
    },
    "papermill": {
     "duration": 0.488853,
     "end_time": "2025-08-26T07:22:21.571272",
     "exception": false,
     "start_time": "2025-08-26T07:22:21.082419",
     "status": "completed"
    },
    "tags": []
   },
   "outputs": [
    {
     "data": {
      "text/plain": [
       "<Axes: xlabel='education_level_cd', ylabel='count'>"
      ]
     },
     "execution_count": 7,
     "metadata": {},
     "output_type": "execute_result"
    },
    {
     "data": {
      "image/png": "[encoded data removed]",
      "text/plain": [
       "<Figure size 640x480 with 1 Axes>"
      ]
     },
     "metadata": {},
     "output_type": "display_data"
    }
   ],
   "source": [
    "sns.countplot(train, x=\"education_level_cd\")"
   ]
  },
  {
   "cell_type": "code",
   "execution_count": 8,
   "id": "9ecb9f8b",
   "metadata": {
    "execution": {
     "iopub.execute_input": "2025-08-26T07:22:21.585665Z",
     "iopub.status.busy": "2025-08-26T07:22:21.585121Z",
     "iopub.status.idle": "2025-08-26T07:22:21.956293Z",
     "shell.execute_reply": "2025-08-26T07:22:21.955303Z"
    },
    "papermill": {
     "duration": 0.379827,
     "end_time": "2025-08-26T07:22:21.957789",
     "exception": false,
     "start_time": "2025-08-26T07:22:21.577962",
     "status": "completed"
    },
    "tags": []
   },
   "outputs": [
    {
     "data": {
      "text/plain": [
       "<Axes: xlabel='marital_status_cd', ylabel='count'>"
      ]
     },
     "execution_count": 8,
     "metadata": {},
     "output_type": "execute_result"
    },
    {
     "data": {
      "image/png": "[encoded data removed]",
      "text/plain": [
       "<Figure size 640x480 with 1 Axes>"
      ]
     },
     "metadata": {},
     "output_type": "display_data"
    }
   ],
   "source": [
    "sns.countplot(train, x=\"marital_status_cd\")"
   ]
  },
  {
   "cell_type": "code",
   "execution_count": 9,
   "id": "12b93af3",
   "metadata": {
    "execution": {
     "iopub.execute_input": "2025-08-26T07:22:21.973295Z",
     "iopub.status.busy": "2025-08-26T07:22:21.972203Z",
     "iopub.status.idle": "2025-08-26T07:22:24.358365Z",
     "shell.execute_reply": "2025-08-26T07:22:24.357380Z"
    },
    "papermill": {
     "duration": 2.395045,
     "end_time": "2025-08-26T07:22:24.359806",
     "exception": false,
     "start_time": "2025-08-26T07:22:21.964761",
     "status": "completed"
    },
    "tags": []
   },
   "outputs": [
    {
     "data": {
      "text/plain": [
       "<Axes: xlabel='age', ylabel='Density'>"
      ]
     },
     "execution_count": 9,
     "metadata": {},
     "output_type": "execute_result"
    },
    {
     "data": {
      "image/png": "[encoded data removed]",
      "text/plain": [
       "<Figure size 640x480 with 1 Axes>"
      ]
     },
     "metadata": {},
     "output_type": "display_data"
    }
   ],
   "source": [
    "sns.distplot(train['age'],bins = 200)"
   ]
  },
  {
   "cell_type": "code",
   "execution_count": 10,
   "id": "fba0073c",
   "metadata": {
    "execution": {
     "iopub.execute_input": "2025-08-26T07:22:24.376452Z",
     "iopub.status.busy": "2025-08-26T07:22:24.376148Z",
     "iopub.status.idle": "2025-08-26T07:22:24.585149Z",
     "shell.execute_reply": "2025-08-26T07:22:24.584176Z"
    },
    "papermill": {
     "duration": 0.219046,
     "end_time": "2025-08-26T07:22:24.586737",
     "exception": false,
     "start_time": "2025-08-26T07:22:24.367691",
     "status": "completed"
    },
    "tags": []
   },
   "outputs": [],
   "source": [
    "train['ccr_balance_amt'] = train['ccr_balance_amt'].fillna(0)\n",
    "train['lon_balance_amt'] = train['lon_balance_amt'].fillna(0)\n",
    "train['cor_balance_amt'] = train['cor_balance_amt'].fillna(0)"
   ]
  },
  {
   "cell_type": "code",
   "execution_count": 11,
   "id": "fcc75339",
   "metadata": {
    "execution": {
     "iopub.execute_input": "2025-08-26T07:22:24.602594Z",
     "iopub.status.busy": "2025-08-26T07:22:24.602307Z",
     "iopub.status.idle": "2025-08-26T07:22:24.786608Z",
     "shell.execute_reply": "2025-08-26T07:22:24.785810Z"
    },
    "papermill": {
     "duration": 0.194064,
     "end_time": "2025-08-26T07:22:24.788231",
     "exception": false,
     "start_time": "2025-08-26T07:22:24.594167",
     "status": "completed"
    },
    "tags": []
   },
   "outputs": [],
   "source": [
    "social_cols = ['posts', 'comments', 'reacts', 'reads']\n",
    "train[social_cols] = train[social_cols].fillna(0)"
   ]
  },
  {
   "cell_type": "code",
   "execution_count": 12,
   "id": "148760a2",
   "metadata": {
    "execution": {
     "iopub.execute_input": "2025-08-26T07:22:24.804669Z",
     "iopub.status.busy": "2025-08-26T07:22:24.803961Z",
     "iopub.status.idle": "2025-08-26T07:22:24.841053Z",
     "shell.execute_reply": "2025-08-26T07:22:24.840037Z"
    },
    "papermill": {
     "duration": 0.04716,
     "end_time": "2025-08-26T07:22:24.842719",
     "exception": false,
     "start_time": "2025-08-26T07:22:24.795559",
     "status": "completed"
    },
    "tags": []
   },
   "outputs": [],
   "source": [
    "train['marital_status_cd'] = train['marital_status_cd'].fillna(-1)"
   ]
  },
  {
   "cell_type": "code",
   "execution_count": 13,
   "id": "1dc870c3",
   "metadata": {
    "execution": {
     "iopub.execute_input": "2025-08-26T07:22:24.858746Z",
     "iopub.status.busy": "2025-08-26T07:22:24.858407Z",
     "iopub.status.idle": "2025-08-26T07:22:24.894633Z",
     "shell.execute_reply": "2025-08-26T07:22:24.893943Z"
    },
    "papermill": {
     "duration": 0.046062,
     "end_time": "2025-08-26T07:22:24.896239",
     "exception": false,
     "start_time": "2025-08-26T07:22:24.850177",
     "status": "completed"
    },
    "tags": []
   },
   "outputs": [],
   "source": [
    "train['children_cnt'] = train['children_cnt'].fillna(-1)"
   ]
  },
  {
   "cell_type": "code",
   "execution_count": 14,
   "id": "0c8623fa",
   "metadata": {
    "execution": {
     "iopub.execute_input": "2025-08-26T07:22:24.912374Z",
     "iopub.status.busy": "2025-08-26T07:22:24.912052Z",
     "iopub.status.idle": "2025-08-26T07:22:24.949543Z",
     "shell.execute_reply": "2025-08-26T07:22:24.948716Z"
    },
    "papermill": {
     "duration": 0.047657,
     "end_time": "2025-08-26T07:22:24.951246",
     "exception": false,
     "start_time": "2025-08-26T07:22:24.903589",
     "status": "completed"
    },
    "tags": []
   },
   "outputs": [],
   "source": [
    "train[\"education_level_cd\"] = train[\"education_level_cd\"].fillna(-1)"
   ]
  },
  {
   "cell_type": "code",
   "execution_count": 15,
   "id": "57594ad6",
   "metadata": {
    "execution": {
     "iopub.execute_input": "2025-08-26T07:22:24.968331Z",
     "iopub.status.busy": "2025-08-26T07:22:24.967387Z",
     "iopub.status.idle": "2025-08-26T07:22:24.973634Z",
     "shell.execute_reply": "2025-08-26T07:22:24.972580Z"
    },
    "papermill": {
     "duration": 0.016009,
     "end_time": "2025-08-26T07:22:24.975094",
     "exception": false,
     "start_time": "2025-08-26T07:22:24.959085",
     "status": "completed"
    },
    "tags": []
   },
   "outputs": [
    {
     "name": "stdout",
     "output_type": "stream",
     "text": [
      "object\n",
      "0    31272,0\n",
      "1     6284,0\n",
      "2     1904,0\n",
      "3        NaN\n",
      "4        NaN\n",
      "5     3158,0\n",
      "6     2690,0\n",
      "7     5020,0\n",
      "8     1595,0\n",
      "9    16898,0\n",
      "Name: monthly_income_amt, dtype: object\n"
     ]
    }
   ],
   "source": [
    "print(train['monthly_income_amt'].dtype)\n",
    "print(train['monthly_income_amt'].head(10))"
   ]
  },
  {
   "cell_type": "code",
   "execution_count": 16,
   "id": "e8ba490f",
   "metadata": {
    "execution": {
     "iopub.execute_input": "2025-08-26T07:22:24.991415Z",
     "iopub.status.busy": "2025-08-26T07:22:24.991101Z",
     "iopub.status.idle": "2025-08-26T07:22:24.996961Z",
     "shell.execute_reply": "2025-08-26T07:22:24.995984Z"
    },
    "papermill": {
     "duration": 0.016027,
     "end_time": "2025-08-26T07:22:24.998584",
     "exception": false,
     "start_time": "2025-08-26T07:22:24.982557",
     "status": "completed"
    },
    "tags": []
   },
   "outputs": [
    {
     "name": "stdout",
     "output_type": "stream",
     "text": [
      "0         31272,0\n",
      "1          6284,0\n",
      "2          1904,0\n",
      "3             NaN\n",
      "4             NaN\n",
      "           ...   \n",
      "458365        NaN\n",
      "458366     2524,0\n",
      "458367     6267,0\n",
      "458368     4713,0\n",
      "458369     1436,0\n",
      "Name: monthly_income_amt, Length: 458370, dtype: object\n"
     ]
    }
   ],
   "source": [
    "print(train['monthly_income_amt'] )"
   ]
  },
  {
   "cell_type": "code",
   "execution_count": 17,
   "id": "b2d76304",
   "metadata": {
    "execution": {
     "iopub.execute_input": "2025-08-26T07:22:25.015727Z",
     "iopub.status.busy": "2025-08-26T07:22:25.015109Z",
     "iopub.status.idle": "2025-08-26T07:22:52.086034Z",
     "shell.execute_reply": "2025-08-26T07:22:52.085059Z"
    },
    "papermill": {
     "duration": 27.081686,
     "end_time": "2025-08-26T07:22:52.087912",
     "exception": false,
     "start_time": "2025-08-26T07:22:25.006226",
     "status": "completed"
    },
    "tags": []
   },
   "outputs": [],
   "source": [
    "numeric_cols = [\n",
    "    'monthly_income_amt', 'in_payment_rub_amt', 'out_payment_rub_amt',\n",
    "    'uncovered_position_amt', 'turnover_rus_bon_amt', 'turnover_rus_sec_amt',\n",
    "    'turnover_forts_amt', 'turnover_cur_amt', 'turnover_etf_amt',\n",
    "    'turnover_fnd_amt', 'turnover_opt_amt', 'turnover_ore_prc_amt',\n",
    "    'turnover_ore_sel_amt', 'turnover_tracking_amt', 'trade_order_rus_sec_cnt',\n",
    "    'trade_order_rus_bon_cnt', 'trade_order_forts_cnt', 'trade_order_cur_cnt',\n",
    "    'trade_order_etf_cnt', 'trade_order_fnd_cnt', 'trade_order_opt_cnt',\n",
    "    'trade_order_ore_prc_cnt', 'trade_order_ore_sel_cnt', 'trade_order_tracking_cnt',\n",
    "    'portf_total_amt', 'portf_mex_amt', 'portf_rus_sec_amt', 'portf_rus_bon_amt',\n",
    "    'initial_margin_amt', 'portf_cur_amt', 'portf_etf_amt', 'portf_fnd_amt',\n",
    "    'portf_opt_amt', 'portf_ore_amt', 'ccr_balance_amt', 'cor_balance_amt',\n",
    "    'lon_balance_amt', 'posts', 'comments', 'reacts', 'reads'\n",
    "]\n",
    "\n",
    "\n",
    "def clean_numeric_column(series):\n",
    "    return (series\n",
    "            .astype(str)\n",
    "            .str.replace(' ', '', regex=False)\n",
    "            .str.replace(',', '.', regex=False)\n",
    "            .str.replace('руб', '', regex=False)\n",
    "            .str.replace('$', '', regex=False)\n",
    "            .replace('nan', None)\n",
    "            .replace('NaN', None)\n",
    "            .replace('', None)\n",
    "            .astype('float'))\n",
    "\n",
    "\n",
    "for col in numeric_cols:\n",
    "    if col in train.columns:\n",
    "        train[col] = clean_numeric_column(train[col])"
   ]
  },
  {
   "cell_type": "code",
   "execution_count": 18,
   "id": "7a7563e4",
   "metadata": {
    "execution": {
     "iopub.execute_input": "2025-08-26T07:22:52.104442Z",
     "iopub.status.busy": "2025-08-26T07:22:52.104138Z",
     "iopub.status.idle": "2025-08-26T07:22:52.412006Z",
     "shell.execute_reply": "2025-08-26T07:22:52.410866Z"
    },
    "papermill": {
     "duration": 0.317851,
     "end_time": "2025-08-26T07:22:52.413642",
     "exception": false,
     "start_time": "2025-08-26T07:22:52.095791",
     "status": "completed"
    },
    "tags": []
   },
   "outputs": [
    {
     "name": "stdout",
     "output_type": "stream",
     "text": [
      "0          713\n",
      "1         1611\n",
      "2          630\n",
      "3         1440\n",
      "4         1274\n",
      "          ... \n",
      "458365    1586\n",
      "458366    1720\n",
      "458367    1629\n",
      "458368    1922\n",
      "458369    1399\n",
      "Name: invest_days, Length: 458370, dtype: int64\n"
     ]
    }
   ],
   "source": [
    "\n",
    "train['invest_utilization_dt'] = pd.to_datetime(train['invest_utilization_dt'], errors='coerce')\n",
    "\n",
    "\n",
    "\n",
    "\n",
    "train['invest_days'] = (pd.to_datetime('today') - train['invest_utilization_dt']).dt.days\n",
    "print(train['invest_days'])"
   ]
  },
  {
   "cell_type": "code",
   "execution_count": 19,
   "id": "98a174c6",
   "metadata": {
    "execution": {
     "iopub.execute_input": "2025-08-26T07:22:52.431429Z",
     "iopub.status.busy": "2025-08-26T07:22:52.431116Z",
     "iopub.status.idle": "2025-08-26T07:22:52.520640Z",
     "shell.execute_reply": "2025-08-26T07:22:52.519731Z"
    },
    "papermill": {
     "duration": 0.101056,
     "end_time": "2025-08-26T07:22:52.522221",
     "exception": false,
     "start_time": "2025-08-26T07:22:52.421165",
     "status": "completed"
    },
    "tags": []
   },
   "outputs": [
    {
     "name": "stdout",
     "output_type": "stream",
     "text": [
      "0            42390\n",
      "1           129326\n",
      "2           185930\n",
      "3           404940\n",
      "4          1035537\n",
      "           ...    \n",
      "5088    2144825007\n",
      "5089    2144849682\n",
      "5090    2145393660\n",
      "5091    2146122460\n",
      "5092    2147202935\n",
      "Name: id, Length: 5093, dtype: int64\n"
     ]
    }
   ],
   "source": [
    "client_analysis = train.groupby('id').agg({\n",
    "    # Количество сделок по типам активов\n",
    "    'trade_order_rus_sec_cnt': 'sum',\n",
    "    'trade_order_rus_bon_cnt': 'sum', \n",
    "    'trade_order_forts_cnt': 'sum',\n",
    "    'trade_order_cur_cnt': 'sum',\n",
    "    'trade_order_etf_cnt': 'sum',\n",
    "    'trade_order_fnd_cnt': 'sum',\n",
    "    'trade_order_opt_cnt': 'sum',\n",
    "    'trade_order_ore_prc_cnt': 'sum',\n",
    "    'trade_order_ore_sel_cnt': 'sum',\n",
    "    'trade_order_tracking_cnt': 'sum',\n",
    "    \n",
    "    # Объемы торговли по типам активов\n",
    "    'turnover_rus_sec_amt': 'sum',\n",
    "    'turnover_rus_bon_amt': 'sum',\n",
    "    'turnover_forts_amt': 'sum', \n",
    "    'turnover_cur_amt': 'sum',\n",
    "    'turnover_etf_amt': 'sum',\n",
    "    'turnover_fnd_amt': 'sum',\n",
    "    'turnover_opt_amt': 'sum',\n",
    "    'turnover_ore_prc_amt': 'sum',\n",
    "    'turnover_ore_sel_amt': 'sum',\n",
    "    'turnover_tracking_amt': 'sum',\n",
    "    \n",
    "    # Общие показатели\n",
    "    'forts_flg': 'max',\n",
    "    'margin_status_flg': 'max',\n",
    "    'qualified_investor_flg': 'max'\n",
    "}).reset_index()\n",
    "\n",
    "client_analysis = client_analysis.fillna(0)\n",
    "print(client_analysis[\"id\"])\n"
   ]
  },
  {
   "cell_type": "code",
   "execution_count": 20,
   "id": "4a87dc9b",
   "metadata": {
    "execution": {
     "iopub.execute_input": "2025-08-26T07:22:52.539445Z",
     "iopub.status.busy": "2025-08-26T07:22:52.538511Z",
     "iopub.status.idle": "2025-08-26T07:22:52.545289Z",
     "shell.execute_reply": "2025-08-26T07:22:52.544661Z"
    },
    "papermill": {
     "duration": 0.016797,
     "end_time": "2025-08-26T07:22:52.546541",
     "exception": false,
     "start_time": "2025-08-26T07:22:52.529744",
     "status": "completed"
    },
    "tags": []
   },
   "outputs": [],
   "source": [
    "client_analysis['total_trades'] = (\n",
    "    client_analysis['trade_order_rus_sec_cnt'] + \n",
    "    client_analysis['trade_order_rus_bon_cnt'] + \n",
    "    client_analysis['trade_order_forts_cnt'] + \n",
    "    client_analysis['trade_order_cur_cnt'] + \n",
    "    client_analysis['trade_order_etf_cnt'] + \n",
    "    client_analysis['trade_order_fnd_cnt'] + \n",
    "    client_analysis['trade_order_opt_cnt'] + \n",
    "    client_analysis['trade_order_ore_prc_cnt'] + \n",
    "    client_analysis['trade_order_ore_sel_cnt'] + \n",
    "    client_analysis['trade_order_tracking_cnt']\n",
    ")\n",
    "\n"
   ]
  },
  {
   "cell_type": "code",
   "execution_count": 21,
   "id": "45bf7a67",
   "metadata": {
    "execution": {
     "iopub.execute_input": "2025-08-26T07:22:52.564016Z",
     "iopub.status.busy": "2025-08-26T07:22:52.563395Z",
     "iopub.status.idle": "2025-08-26T07:22:52.572174Z",
     "shell.execute_reply": "2025-08-26T07:22:52.571103Z"
    },
    "papermill": {
     "duration": 0.019927,
     "end_time": "2025-08-26T07:22:52.574299",
     "exception": false,
     "start_time": "2025-08-26T07:22:52.554372",
     "status": "completed"
    },
    "tags": []
   },
   "outputs": [
    {
     "name": "stdout",
     "output_type": "stream",
     "text": [
      "Активных клиентов (>10 сделок): 5092\n"
     ]
    }
   ],
   "source": [
    "active_clients = client_analysis[client_analysis['total_trades'] > 10]\n",
    "print(f\"Активных клиентов (>10 сделок): {len(active_clients)}\")\n"
   ]
  },
  {
   "cell_type": "code",
   "execution_count": 22,
   "id": "c43629ef",
   "metadata": {
    "execution": {
     "iopub.execute_input": "2025-08-26T07:22:52.591650Z",
     "iopub.status.busy": "2025-08-26T07:22:52.591352Z",
     "iopub.status.idle": "2025-08-26T07:22:52.600907Z",
     "shell.execute_reply": "2025-08-26T07:22:52.599968Z"
    },
    "papermill": {
     "duration": 0.019991,
     "end_time": "2025-08-26T07:22:52.602321",
     "exception": false,
     "start_time": "2025-08-26T07:22:52.582330",
     "status": "completed"
    },
    "tags": []
   },
   "outputs": [
    {
     "name": "stdout",
     "output_type": "stream",
     "text": [
      "\n",
      "Топ-5 предпочтений по количеству сделок:\n",
      "1. Российские акции: 767,532.0 сделок\n",
      "2. Автоследования: 509,735.0 сделок\n",
      "3. ETF: 213,233.0 сделок\n",
      "4. фонды Тинькофф Капитала: 170,670.0 сделок\n",
      "5. Российские облигации: 146,668.0 сделок\n"
     ]
    }
   ],
   "source": [
    "asset_names = {\n",
    "    'trade_order_rus_sec_cnt': 'Российские акции',\n",
    "    'trade_order_rus_bon_cnt': 'Российские облигации', \n",
    "    'trade_order_forts_cnt': 'Фьючерсы',\n",
    "    'trade_order_cur_cnt': 'Валютные операции',\n",
    "    'trade_order_etf_cnt': 'ETF',\n",
    "    'trade_order_fnd_cnt': 'фонды Тинькофф Капитала',\n",
    "    'trade_order_opt_cnt': 'Опционы',\n",
    "    'trade_order_ore_prc_cnt': 'покупка драгоценных металлов',\n",
    "    'trade_order_ore_sel_cnt': 'продажа драгоценных металлов',\n",
    "    'trade_order_tracking_cnt': 'Автоследования'\n",
    "}\n",
    "\n",
    "# Анализ по количеству сделок\n",
    "trade_preferences = []\n",
    "for col in asset_names.keys():\n",
    "    if col in active_clients.columns:\n",
    "        total_trades = active_clients[col].sum()\n",
    "        trade_preferences.append((asset_names[col], total_trades))\n",
    "\n",
    "trade_preferences.sort(key=lambda x: x[1], reverse=True)\n",
    "\n",
    "print(\"\\nТоп-5 предпочтений по количеству сделок:\")\n",
    "for i, (asset, trades) in enumerate(trade_preferences[:5], 1):\n",
    "    print(f\"{i}. {asset}: {trades:,} сделок\")\n"
   ]
  },
  {
   "cell_type": "code",
   "execution_count": 23,
   "id": "8a87fea3",
   "metadata": {
    "execution": {
     "iopub.execute_input": "2025-08-26T07:22:52.618661Z",
     "iopub.status.busy": "2025-08-26T07:22:52.618335Z",
     "iopub.status.idle": "2025-08-26T07:22:52.856451Z",
     "shell.execute_reply": "2025-08-26T07:22:52.855593Z"
    },
    "papermill": {
     "duration": 0.24813,
     "end_time": "2025-08-26T07:22:52.858011",
     "exception": false,
     "start_time": "2025-08-26T07:22:52.609881",
     "status": "completed"
    },
    "tags": []
   },
   "outputs": [
    {
     "data": {
      "text/plain": [
       "Text(0.5, 0, 'Количество сделок')"
      ]
     },
     "execution_count": 23,
     "metadata": {},
     "output_type": "execute_result"
    },
    {
     "data": {
      "image/png": "[encoded data removed]",
      "text/plain": [
       "<Figure size 1500x1000 with 1 Axes>"
      ]
     },
     "metadata": {},
     "output_type": "display_data"
    }
   ],
   "source": [
    "plt.figure(figsize=(15, 10))\n",
    "\n",
    "\n",
    "plt.subplot(2, 1, 1)\n",
    "top_5_trades = trade_preferences[:5]\n",
    "plt.barh([x[0] for x in top_5_trades], [x[1] for x in top_5_trades])\n",
    "plt.title('Топ-5 предпочтений активных клиентов по количеству сделок', fontsize=14)\n",
    "plt.xlabel('Количество сделок')\n"
   ]
  },
  {
   "cell_type": "code",
   "execution_count": 24,
   "id": "1a713ac5",
   "metadata": {
    "execution": {
     "iopub.execute_input": "2025-08-26T07:22:52.876040Z",
     "iopub.status.busy": "2025-08-26T07:22:52.875715Z",
     "iopub.status.idle": "2025-08-26T07:22:52.882085Z",
     "shell.execute_reply": "2025-08-26T07:22:52.881162Z"
    },
    "papermill": {
     "duration": 0.016862,
     "end_time": "2025-08-26T07:22:52.883376",
     "exception": false,
     "start_time": "2025-08-26T07:22:52.866514",
     "status": "completed"
    },
    "tags": []
   },
   "outputs": [
    {
     "name": "stdout",
     "output_type": "stream",
     "text": [
      "Среднее количество сделок на клиента: 382.5\n",
      "Медианное количество сделок на клиента: 270.0\n",
      "Максимальное количество сделок: 2,569.0\n"
     ]
    }
   ],
   "source": [
    "print(f\"Среднее количество сделок на клиента: {client_analysis['total_trades'].mean():.1f}\")\n",
    "print(f\"Медианное количество сделок на клиента: {client_analysis['total_trades'].median():.1f}\")\n",
    "print(f\"Максимальное количество сделок: {client_analysis['total_trades'].max():,}\")\n",
    "\n"
   ]
  },
  {
   "cell_type": "code",
   "execution_count": 25,
   "id": "5f7675a7",
   "metadata": {
    "execution": {
     "iopub.execute_input": "2025-08-26T07:22:52.901241Z",
     "iopub.status.busy": "2025-08-26T07:22:52.900919Z",
     "iopub.status.idle": "2025-08-26T07:22:52.915408Z",
     "shell.execute_reply": "2025-08-26T07:22:52.914383Z"
    },
    "papermill": {
     "duration": 0.024947,
     "end_time": "2025-08-26T07:22:52.916794",
     "exception": false,
     "start_time": "2025-08-26T07:22:52.891847",
     "status": "completed"
    },
    "tags": []
   },
   "outputs": [
    {
     "name": "stdout",
     "output_type": "stream",
     "text": [
      "\n",
      "Распределение клиентов по количеству сделок:\n",
      "1: 0 клиентов (0.0%)\n",
      "2-5: 0 клиентов (0.0%)\n",
      "6-10: 1 клиентов (0.0%)\n",
      "11-25: 45 клиентов (0.9%)\n",
      "26-50: 307 клиентов (6.0%)\n",
      "51-100: 769 клиентов (15.1%)\n",
      "101-500: 2,578 клиентов (50.6%)\n",
      "501-1000: 1,030 клиентов (20.2%)\n",
      "1000+: 363 клиентов (7.1%)\n"
     ]
    }
   ],
   "source": [
    "# Распределение клиентов по количеству сделок\n",
    "print(\"\\nРаспределение клиентов по количеству сделок:\")\n",
    "bins = [0, 1, 5, 10, 25, 50, 100, 500, 1000, float('inf')]\n",
    "labels = ['1', '2-5', '6-10', '11-25', '26-50', '51-100', '101-500', '501-1000', '1000+']\n",
    "\n",
    "client_analysis['trade_category'] = pd.cut(client_analysis['total_trades'], bins=bins, labels=labels, include_lowest=True)\n",
    "trade_distribution = client_analysis['trade_category'].value_counts().sort_index()\n",
    "\n",
    "for category, count in trade_distribution.items():\n",
    "    percentage = (count / len(client_analysis)) * 100\n",
    "    print(f\"{category}: {count:,} клиентов ({percentage:.1f}%)\")\n"
   ]
  },
  {
   "cell_type": "code",
   "execution_count": 26,
   "id": "c669e254",
   "metadata": {
    "execution": {
     "iopub.execute_input": "2025-08-26T07:22:52.934807Z",
     "iopub.status.busy": "2025-08-26T07:22:52.934225Z",
     "iopub.status.idle": "2025-08-26T07:22:53.205993Z",
     "shell.execute_reply": "2025-08-26T07:22:53.205113Z"
    },
    "papermill": {
     "duration": 0.282263,
     "end_time": "2025-08-26T07:22:53.207420",
     "exception": false,
     "start_time": "2025-08-26T07:22:52.925157",
     "status": "completed"
    },
    "tags": []
   },
   "outputs": [
    {
     "data": {
      "image/png": "[encoded data removed]",
      "text/plain": [
       "<Figure size 1200x600 with 1 Axes>"
      ]
     },
     "metadata": {},
     "output_type": "display_data"
    }
   ],
   "source": [
    "plt.figure(figsize=(12, 6))\n",
    "trade_distribution.plot(kind='bar')\n",
    "plt.title('Распределение клиентов по количеству сделок', fontsize=14)\n",
    "plt.xlabel('Количество сделок')\n",
    "plt.ylabel('Количество клиентов')\n",
    "plt.xticks(rotation=45)\n",
    "plt.tight_layout()\n",
    "plt.show()"
   ]
  },
  {
   "cell_type": "code",
   "execution_count": 27,
   "id": "234e6f99",
   "metadata": {
    "execution": {
     "iopub.execute_input": "2025-08-26T07:22:53.226701Z",
     "iopub.status.busy": "2025-08-26T07:22:53.226380Z",
     "iopub.status.idle": "2025-08-26T07:22:53.238784Z",
     "shell.execute_reply": "2025-08-26T07:22:53.238043Z"
    },
    "papermill": {
     "duration": 0.023684,
     "end_time": "2025-08-26T07:22:53.240313",
     "exception": false,
     "start_time": "2025-08-26T07:22:53.216629",
     "status": "completed"
    },
    "tags": []
   },
   "outputs": [],
   "source": [
    "portfolio_cols = ['ccr_balance_amt', 'lon_balance_amt', 'cor_balance_amt']\n",
    "for col in portfolio_cols:\n",
    "    if col in train.columns:\n",
    "        train[col] = pd.to_numeric(train[col], errors='coerce').fillna(0)"
   ]
  },
  {
   "cell_type": "code",
   "execution_count": 28,
   "id": "362ecf4f",
   "metadata": {
    "execution": {
     "iopub.execute_input": "2025-08-26T07:22:53.259674Z",
     "iopub.status.busy": "2025-08-26T07:22:53.259333Z",
     "iopub.status.idle": "2025-08-26T07:22:53.955568Z",
     "shell.execute_reply": "2025-08-26T07:22:53.954244Z"
    },
    "papermill": {
     "duration": 0.707751,
     "end_time": "2025-08-26T07:22:53.957125",
     "exception": false,
     "start_time": "2025-08-26T07:22:53.249374",
     "status": "completed"
    },
    "tags": []
   },
   "outputs": [
    {
     "name": "stdout",
     "output_type": "stream",
     "text": [
      "Статистика по портфелю клиентов:\n",
      "Средний размер портфеля: 5,451,310 руб.\n",
      "Медианный размер портфеля: 803,857 руб.\n",
      "Максимальный размер портфеля: 1,264,457,396 руб.\n",
      "\n",
      "Статистика по длительности использования:\n",
      "Средняя длительность: 89.0 дней\n",
      "Медианная длительность: 89.0 дней\n",
      "Максимальная длительность: 89 дней\n",
      "\n",
      "Корреляция между количеством сделок и размером портфеля: 0.016\n"
     ]
    }
   ],
   "source": [
    "portfolio_analysis = train.groupby('id').agg({\n",
    "    \"portf_total_amt\" : 'sum',\n",
    "    'date': ['min', 'max']  # Первая и последняя дата\n",
    "}).reset_index()\n",
    "\n",
    "portfolio_analysis.columns = ['id', 'portf_total', 'first_date', 'last_date']\n",
    "\n",
    "# Общий портфель\n",
    "portfolio_analysis['total_portfolio'] = (\n",
    "    (portfolio_analysis['portf_total']) \n",
    ")\n",
    "\n",
    "# Анализ дат\n",
    "portfolio_analysis['first_date'] = pd.to_datetime(portfolio_analysis['first_date'], errors='coerce')\n",
    "portfolio_analysis['last_date'] = pd.to_datetime(portfolio_analysis['last_date'], errors='coerce')\n",
    "portfolio_analysis['usage_duration_days'] = (\n",
    "    portfolio_analysis['last_date'] - portfolio_analysis['first_date']\n",
    ").dt.days\n",
    "\n",
    "print(\"Статистика по портфелю клиентов:\")\n",
    "print(f\"Средний размер портфеля: {portfolio_analysis['total_portfolio'].mean():,.0f} руб.\")\n",
    "print(f\"Медианный размер портфеля: {portfolio_analysis['total_portfolio'].median():,.0f} руб.\")\n",
    "print(f\"Максимальный размер портфеля: {portfolio_analysis['total_portfolio'].max():,.0f} руб.\")\n",
    "\n",
    "# Статистика по длительности использования\n",
    "print(f\"\\nСтатистика по длительности использования:\")\n",
    "print(f\"Средняя длительность: {portfolio_analysis['usage_duration_days'].mean():.1f} дней\")\n",
    "print(f\"Медианная длительность: {portfolio_analysis['usage_duration_days'].median():.1f} дней\")\n",
    "print(f\"Максимальная длительность: {portfolio_analysis['usage_duration_days'].max():.0f} дней\")\n",
    "\n",
    "# Корреляция между активностью и размером портфеля\n",
    "merged_analysis = client_analysis.merge(portfolio_analysis, on='id', how='inner')\n",
    "\n",
    "print(f\"\\nКорреляция между количеством сделок и размером портфеля: {merged_analysis['total_trades'].corr(merged_analysis['total_portfolio']):.3f}\")\n"
   ]
  },
  {
   "cell_type": "code",
   "execution_count": 29,
   "id": "a47e1b8c",
   "metadata": {
    "execution": {
     "iopub.execute_input": "2025-08-26T07:22:53.977604Z",
     "iopub.status.busy": "2025-08-26T07:22:53.976548Z",
     "iopub.status.idle": "2025-08-26T07:22:53.993177Z",
     "shell.execute_reply": "2025-08-26T07:22:53.992139Z"
    },
    "papermill": {
     "duration": 0.028123,
     "end_time": "2025-08-26T07:22:53.994659",
     "exception": false,
     "start_time": "2025-08-26T07:22:53.966536",
     "status": "completed"
    },
    "tags": []
   },
   "outputs": [
    {
     "name": "stdout",
     "output_type": "stream",
     "text": [
      "Профиль активного клиента (клиенты с >10 сделками):\n",
      "Количество клиентов: 5092\n",
      "Среднее количество сделок: 382.6\n",
      "Средний размер портфеля: 5,452,220 руб.\n",
      "Средняя длительность использования: 89.0 дней\n",
      "\n",
      "Топ-10 самых активных клиентов:\n",
      "        id  total_trades  total_portfolio  usage_duration_days\n",
      "1822388874        2569.0       14972433.0                   89\n",
      "1513271932        2392.0         460647.0                   89\n",
      " 880796283        2353.0        5716946.0                   89\n",
      " 442335554        2266.0         397040.0                   89\n",
      "1035967538        2192.0       15260324.0                   89\n",
      "1024650615        2191.0        3503229.0                   89\n",
      " 747144309        2179.0        3782572.0                   89\n",
      "2117690844        2161.0        2500419.0                   89\n",
      "  64424577        2144.0        4657777.0                   89\n",
      " 638265803        2138.0        1083248.0                   89\n"
     ]
    }
   ],
   "source": [
    "active_profile = merged_analysis[merged_analysis['total_trades'] > 10].copy()\n",
    "\n",
    "print(f\"Профиль активного клиента (клиенты с >10 сделками):\")\n",
    "print(f\"Количество клиентов: {len(active_profile)}\")\n",
    "print(f\"Среднее количество сделок: {active_profile['total_trades'].mean():.1f}\")\n",
    "print(f\"Средний размер портфеля: {active_profile['total_portfolio'].mean():,.0f} руб.\")\n",
    "print(f\"Средняя длительность использования: {active_profile['usage_duration_days'].mean():.1f} дней\")\n",
    "\n",
    "# Топ-10 самых активных клиентов\n",
    "top_active = active_profile.nlargest(10, 'total_trades')[['id', 'total_trades', 'total_portfolio', 'usage_duration_days']]\n",
    "print(f\"\\nТоп-10 самых активных клиентов:\")\n",
    "print(top_active.to_string(index=False))"
   ]
  },
  {
   "cell_type": "code",
   "execution_count": null,
   "id": "ee1cfb7e",
   "metadata": {
    "papermill": {
     "duration": 0.009209,
     "end_time": "2025-08-26T07:22:54.013198",
     "exception": false,
     "start_time": "2025-08-26T07:22:54.003989",
     "status": "completed"
    },
    "tags": []
   },
   "outputs": [],
   "source": []
  }
 ],
 "metadata": {
  "kaggle": {
   "accelerator": "none",
   "dataSources": [
    {
     "datasetId": 8109781,
     "sourceId": 12824147,
     "sourceType": "datasetVersion"
    }
   ],
   "dockerImageVersionId": 31089,
   "isGpuEnabled": false,
   "isInternetEnabled": false,
   "language": "python",
   "sourceType": "notebook"
  },
  "kernelspec": {
   "display_name": "Python 3",
   "language": "python",
   "name": "python3"
  },
  "language_info": {
   "codemirror_mode": {
    "name": "ipython",
    "version": 3
   },
   "file_extension": ".py",
   "mimetype": "text/x-python",
   "name": "python",
   "nbconvert_exporter": "python",
   "pygments_lexer": "ipython3",
   "version": "3.11.13"
  },
  "papermill": {
   "default_parameters": {},
   "duration": 64.773471,
   "end_time": "2025-08-26T07:22:55.144331",
   "environment_variables": {},
   "exception": null,
   "input_path": "__notebook__.ipynb",
   "output_path": "__notebook__.ipynb",
   "parameters": {},
   "start_time": "2025-08-26T07:21:50.370860",
   "version": "2.6.0"
  }
 },
 "nbformat": 4,
 "nbformat_minor": 5
}
